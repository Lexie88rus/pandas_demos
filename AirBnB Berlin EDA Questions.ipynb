{
 "cells": [
  {
   "cell_type": "markdown",
   "metadata": {},
   "source": [
    "# AirBnB Berlin EDA\n",
    "Use `pandas` to analyze [AirBnB Berlin dataset](https://www.kaggle.com/brittabettendorf/berlin-airbnb-data) dataset."
   ]
  },
  {
   "cell_type": "code",
   "execution_count": 64,
   "metadata": {},
   "outputs": [],
   "source": [
    "import numpy as np\n",
    "import pandas as pd\n",
    "\n",
    "import matplotlib.pyplot as plt"
   ]
  },
  {
   "cell_type": "markdown",
   "metadata": {},
   "source": [
    "## Load the Datasets"
   ]
  },
  {
   "cell_type": "code",
   "execution_count": 11,
   "metadata": {},
   "outputs": [],
   "source": [
    "# load the dataset\n",
    "listings = pd.read_csv('./data/listings.csv')\n",
    "listings_summary = pd.read_csv('./data/listings_summary.csv')\n",
    "reviews = pd.read_csv('./data/reviews.csv')\n",
    "neighborhoods = pd.read_csv('./data/neighbourhoods.csv')\n",
    "reviews_summary = pd.read_csv('./data/reviews_summary.csv')\n",
    "calendar_summary = pd.read_csv('./data/calendar_summary.csv')"
   ]
  },
  {
   "cell_type": "code",
   "execution_count": 17,
   "metadata": {},
   "outputs": [
    {
     "data": {
      "text/html": [
       "<div>\n",
       "<style scoped>\n",
       "    .dataframe tbody tr th:only-of-type {\n",
       "        vertical-align: middle;\n",
       "    }\n",
       "\n",
       "    .dataframe tbody tr th {\n",
       "        vertical-align: top;\n",
       "    }\n",
       "\n",
       "    .dataframe thead th {\n",
       "        text-align: right;\n",
       "    }\n",
       "</style>\n",
       "<table border=\"1\" class=\"dataframe\">\n",
       "  <thead>\n",
       "    <tr style=\"text-align: right;\">\n",
       "      <th></th>\n",
       "      <th>id</th>\n",
       "      <th>name</th>\n",
       "      <th>host_id</th>\n",
       "      <th>host_name</th>\n",
       "      <th>neighbourhood_group</th>\n",
       "      <th>neighbourhood</th>\n",
       "      <th>latitude</th>\n",
       "      <th>longitude</th>\n",
       "      <th>room_type</th>\n",
       "      <th>price</th>\n",
       "      <th>minimum_nights</th>\n",
       "      <th>number_of_reviews</th>\n",
       "      <th>last_review</th>\n",
       "      <th>reviews_per_month</th>\n",
       "      <th>calculated_host_listings_count</th>\n",
       "      <th>availability_365</th>\n",
       "    </tr>\n",
       "  </thead>\n",
       "  <tbody>\n",
       "    <tr>\n",
       "      <th>0</th>\n",
       "      <td>2015</td>\n",
       "      <td>Berlin-Mitte Value! Quiet courtyard/very central</td>\n",
       "      <td>2217</td>\n",
       "      <td>Ian</td>\n",
       "      <td>Mitte</td>\n",
       "      <td>Brunnenstr. Süd</td>\n",
       "      <td>52.534537</td>\n",
       "      <td>13.402557</td>\n",
       "      <td>Entire home/apt</td>\n",
       "      <td>60</td>\n",
       "      <td>4</td>\n",
       "      <td>118</td>\n",
       "      <td>2018-10-28</td>\n",
       "      <td>3.76</td>\n",
       "      <td>4</td>\n",
       "      <td>141</td>\n",
       "    </tr>\n",
       "    <tr>\n",
       "      <th>1</th>\n",
       "      <td>2695</td>\n",
       "      <td>Prenzlauer Berg close to Mauerpark</td>\n",
       "      <td>2986</td>\n",
       "      <td>Michael</td>\n",
       "      <td>Pankow</td>\n",
       "      <td>Prenzlauer Berg Nordwest</td>\n",
       "      <td>52.548513</td>\n",
       "      <td>13.404553</td>\n",
       "      <td>Private room</td>\n",
       "      <td>17</td>\n",
       "      <td>2</td>\n",
       "      <td>6</td>\n",
       "      <td>2018-10-01</td>\n",
       "      <td>1.42</td>\n",
       "      <td>1</td>\n",
       "      <td>0</td>\n",
       "    </tr>\n",
       "  </tbody>\n",
       "</table>\n",
       "</div>"
      ],
      "text/plain": [
       "     id                                              name  host_id host_name  \\\n",
       "0  2015  Berlin-Mitte Value! Quiet courtyard/very central     2217       Ian   \n",
       "1  2695                Prenzlauer Berg close to Mauerpark     2986   Michael   \n",
       "\n",
       "  neighbourhood_group             neighbourhood   latitude  longitude  \\\n",
       "0               Mitte           Brunnenstr. Süd  52.534537  13.402557   \n",
       "1              Pankow  Prenzlauer Berg Nordwest  52.548513  13.404553   \n",
       "\n",
       "         room_type  price  minimum_nights  number_of_reviews last_review  \\\n",
       "0  Entire home/apt     60               4                118  2018-10-28   \n",
       "1     Private room     17               2                  6  2018-10-01   \n",
       "\n",
       "   reviews_per_month  calculated_host_listings_count  availability_365  \n",
       "0               3.76                               4               141  \n",
       "1               1.42                               1                 0  "
      ]
     },
     "execution_count": 17,
     "metadata": {},
     "output_type": "execute_result"
    }
   ],
   "source": [
    "listings.head(2)"
   ]
  },
  {
   "cell_type": "code",
   "execution_count": 31,
   "metadata": {},
   "outputs": [
    {
     "data": {
      "text/html": [
       "<div>\n",
       "<style scoped>\n",
       "    .dataframe tbody tr th:only-of-type {\n",
       "        vertical-align: middle;\n",
       "    }\n",
       "\n",
       "    .dataframe tbody tr th {\n",
       "        vertical-align: top;\n",
       "    }\n",
       "\n",
       "    .dataframe thead th {\n",
       "        text-align: right;\n",
       "    }\n",
       "</style>\n",
       "<table border=\"1\" class=\"dataframe\">\n",
       "  <thead>\n",
       "    <tr style=\"text-align: right;\">\n",
       "      <th></th>\n",
       "      <th>id</th>\n",
       "      <th>listing_url</th>\n",
       "      <th>scrape_id</th>\n",
       "      <th>last_scraped</th>\n",
       "      <th>name</th>\n",
       "      <th>summary</th>\n",
       "      <th>space</th>\n",
       "      <th>description</th>\n",
       "      <th>experiences_offered</th>\n",
       "      <th>neighborhood_overview</th>\n",
       "      <th>...</th>\n",
       "      <th>requires_license</th>\n",
       "      <th>license</th>\n",
       "      <th>jurisdiction_names</th>\n",
       "      <th>instant_bookable</th>\n",
       "      <th>is_business_travel_ready</th>\n",
       "      <th>cancellation_policy</th>\n",
       "      <th>require_guest_profile_picture</th>\n",
       "      <th>require_guest_phone_verification</th>\n",
       "      <th>calculated_host_listings_count</th>\n",
       "      <th>reviews_per_month</th>\n",
       "    </tr>\n",
       "  </thead>\n",
       "  <tbody>\n",
       "    <tr>\n",
       "      <th>0</th>\n",
       "      <td>2015</td>\n",
       "      <td>https://www.airbnb.com/rooms/2015</td>\n",
       "      <td>20181107122246</td>\n",
       "      <td>2018-11-07</td>\n",
       "      <td>Berlin-Mitte Value! Quiet courtyard/very central</td>\n",
       "      <td>Great location!  30 of 75 sq meters. This wood...</td>\n",
       "      <td>A+++ location! This „Einliegerwohnung“ is an e...</td>\n",
       "      <td>Great location!  30 of 75 sq meters. This wood...</td>\n",
       "      <td>none</td>\n",
       "      <td>It is located in the former East Berlin area o...</td>\n",
       "      <td>...</td>\n",
       "      <td>t</td>\n",
       "      <td>NaN</td>\n",
       "      <td>NaN</td>\n",
       "      <td>f</td>\n",
       "      <td>f</td>\n",
       "      <td>strict_14_with_grace_period</td>\n",
       "      <td>f</td>\n",
       "      <td>f</td>\n",
       "      <td>4</td>\n",
       "      <td>3.76</td>\n",
       "    </tr>\n",
       "  </tbody>\n",
       "</table>\n",
       "<p>1 rows × 96 columns</p>\n",
       "</div>"
      ],
      "text/plain": [
       "     id                        listing_url       scrape_id last_scraped  \\\n",
       "0  2015  https://www.airbnb.com/rooms/2015  20181107122246   2018-11-07   \n",
       "\n",
       "                                               name  \\\n",
       "0  Berlin-Mitte Value! Quiet courtyard/very central   \n",
       "\n",
       "                                             summary  \\\n",
       "0  Great location!  30 of 75 sq meters. This wood...   \n",
       "\n",
       "                                               space  \\\n",
       "0  A+++ location! This „Einliegerwohnung“ is an e...   \n",
       "\n",
       "                                         description experiences_offered  \\\n",
       "0  Great location!  30 of 75 sq meters. This wood...                none   \n",
       "\n",
       "                               neighborhood_overview        ...          \\\n",
       "0  It is located in the former East Berlin area o...        ...           \n",
       "\n",
       "  requires_license license jurisdiction_names instant_bookable  \\\n",
       "0                t     NaN                NaN                f   \n",
       "\n",
       "  is_business_travel_ready          cancellation_policy  \\\n",
       "0                        f  strict_14_with_grace_period   \n",
       "\n",
       "   require_guest_profile_picture require_guest_phone_verification  \\\n",
       "0                              f                                f   \n",
       "\n",
       "   calculated_host_listings_count  reviews_per_month  \n",
       "0                               4               3.76  \n",
       "\n",
       "[1 rows x 96 columns]"
      ]
     },
     "execution_count": 31,
     "metadata": {},
     "output_type": "execute_result"
    }
   ],
   "source": [
    "listings_summary.head(1)"
   ]
  },
  {
   "cell_type": "code",
   "execution_count": 13,
   "metadata": {},
   "outputs": [
    {
     "data": {
      "text/html": [
       "<div>\n",
       "<style scoped>\n",
       "    .dataframe tbody tr th:only-of-type {\n",
       "        vertical-align: middle;\n",
       "    }\n",
       "\n",
       "    .dataframe tbody tr th {\n",
       "        vertical-align: top;\n",
       "    }\n",
       "\n",
       "    .dataframe thead th {\n",
       "        text-align: right;\n",
       "    }\n",
       "</style>\n",
       "<table border=\"1\" class=\"dataframe\">\n",
       "  <thead>\n",
       "    <tr style=\"text-align: right;\">\n",
       "      <th></th>\n",
       "      <th>neighbourhood_group</th>\n",
       "      <th>neighbourhood</th>\n",
       "    </tr>\n",
       "  </thead>\n",
       "  <tbody>\n",
       "    <tr>\n",
       "      <th>0</th>\n",
       "      <td>Charlottenburg-Wilm.</td>\n",
       "      <td>Barstraße</td>\n",
       "    </tr>\n",
       "    <tr>\n",
       "      <th>1</th>\n",
       "      <td>Charlottenburg-Wilm.</td>\n",
       "      <td>Charlottenburg Nord</td>\n",
       "    </tr>\n",
       "    <tr>\n",
       "      <th>2</th>\n",
       "      <td>Charlottenburg-Wilm.</td>\n",
       "      <td>Düsseldorfer Straße</td>\n",
       "    </tr>\n",
       "    <tr>\n",
       "      <th>3</th>\n",
       "      <td>Charlottenburg-Wilm.</td>\n",
       "      <td>Forst Grunewald</td>\n",
       "    </tr>\n",
       "    <tr>\n",
       "      <th>4</th>\n",
       "      <td>Charlottenburg-Wilm.</td>\n",
       "      <td>Grunewald</td>\n",
       "    </tr>\n",
       "  </tbody>\n",
       "</table>\n",
       "</div>"
      ],
      "text/plain": [
       "    neighbourhood_group        neighbourhood\n",
       "0  Charlottenburg-Wilm.            Barstraße\n",
       "1  Charlottenburg-Wilm.  Charlottenburg Nord\n",
       "2  Charlottenburg-Wilm.  Düsseldorfer Straße\n",
       "3  Charlottenburg-Wilm.      Forst Grunewald\n",
       "4  Charlottenburg-Wilm.            Grunewald"
      ]
     },
     "execution_count": 13,
     "metadata": {},
     "output_type": "execute_result"
    }
   ],
   "source": [
    "neighborhoods.head()"
   ]
  },
  {
   "cell_type": "code",
   "execution_count": 14,
   "metadata": {},
   "outputs": [
    {
     "data": {
      "text/html": [
       "<div>\n",
       "<style scoped>\n",
       "    .dataframe tbody tr th:only-of-type {\n",
       "        vertical-align: middle;\n",
       "    }\n",
       "\n",
       "    .dataframe tbody tr th {\n",
       "        vertical-align: top;\n",
       "    }\n",
       "\n",
       "    .dataframe thead th {\n",
       "        text-align: right;\n",
       "    }\n",
       "</style>\n",
       "<table border=\"1\" class=\"dataframe\">\n",
       "  <thead>\n",
       "    <tr style=\"text-align: right;\">\n",
       "      <th></th>\n",
       "      <th>listing_id</th>\n",
       "      <th>id</th>\n",
       "      <th>date</th>\n",
       "      <th>reviewer_id</th>\n",
       "      <th>reviewer_name</th>\n",
       "      <th>comments</th>\n",
       "    </tr>\n",
       "  </thead>\n",
       "  <tbody>\n",
       "    <tr>\n",
       "      <th>0</th>\n",
       "      <td>2015</td>\n",
       "      <td>69544350</td>\n",
       "      <td>2016-04-11</td>\n",
       "      <td>7178145</td>\n",
       "      <td>Rahel</td>\n",
       "      <td>Mein Freund und ich hatten gute gemütliche vie...</td>\n",
       "    </tr>\n",
       "    <tr>\n",
       "      <th>1</th>\n",
       "      <td>2015</td>\n",
       "      <td>69990732</td>\n",
       "      <td>2016-04-15</td>\n",
       "      <td>41944715</td>\n",
       "      <td>Hannah</td>\n",
       "      <td>Jan was very friendly and welcoming host! The ...</td>\n",
       "    </tr>\n",
       "    <tr>\n",
       "      <th>2</th>\n",
       "      <td>2015</td>\n",
       "      <td>71605267</td>\n",
       "      <td>2016-04-26</td>\n",
       "      <td>30048708</td>\n",
       "      <td>Victor</td>\n",
       "      <td>Un appartement tres bien situé dans un quartie...</td>\n",
       "    </tr>\n",
       "    <tr>\n",
       "      <th>3</th>\n",
       "      <td>2015</td>\n",
       "      <td>73819566</td>\n",
       "      <td>2016-05-10</td>\n",
       "      <td>63697857</td>\n",
       "      <td>Judy</td>\n",
       "      <td>It is really nice area, food, park, transport ...</td>\n",
       "    </tr>\n",
       "    <tr>\n",
       "      <th>4</th>\n",
       "      <td>2015</td>\n",
       "      <td>74293504</td>\n",
       "      <td>2016-05-14</td>\n",
       "      <td>10414887</td>\n",
       "      <td>Romina</td>\n",
       "      <td>Buena ubicación, el departamento no está orden...</td>\n",
       "    </tr>\n",
       "  </tbody>\n",
       "</table>\n",
       "</div>"
      ],
      "text/plain": [
       "   listing_id        id        date  reviewer_id reviewer_name  \\\n",
       "0        2015  69544350  2016-04-11      7178145         Rahel   \n",
       "1        2015  69990732  2016-04-15     41944715        Hannah   \n",
       "2        2015  71605267  2016-04-26     30048708        Victor   \n",
       "3        2015  73819566  2016-05-10     63697857          Judy   \n",
       "4        2015  74293504  2016-05-14     10414887        Romina   \n",
       "\n",
       "                                            comments  \n",
       "0  Mein Freund und ich hatten gute gemütliche vie...  \n",
       "1  Jan was very friendly and welcoming host! The ...  \n",
       "2  Un appartement tres bien situé dans un quartie...  \n",
       "3  It is really nice area, food, park, transport ...  \n",
       "4  Buena ubicación, el departamento no está orden...  "
      ]
     },
     "execution_count": 14,
     "metadata": {},
     "output_type": "execute_result"
    }
   ],
   "source": [
    "reviews_summary.head()"
   ]
  },
  {
   "cell_type": "code",
   "execution_count": 40,
   "metadata": {},
   "outputs": [
    {
     "data": {
      "text/html": [
       "<div>\n",
       "<style scoped>\n",
       "    .dataframe tbody tr th:only-of-type {\n",
       "        vertical-align: middle;\n",
       "    }\n",
       "\n",
       "    .dataframe tbody tr th {\n",
       "        vertical-align: top;\n",
       "    }\n",
       "\n",
       "    .dataframe thead th {\n",
       "        text-align: right;\n",
       "    }\n",
       "</style>\n",
       "<table border=\"1\" class=\"dataframe\">\n",
       "  <thead>\n",
       "    <tr style=\"text-align: right;\">\n",
       "      <th></th>\n",
       "      <th>listing_id</th>\n",
       "      <th>date</th>\n",
       "      <th>available</th>\n",
       "      <th>price</th>\n",
       "    </tr>\n",
       "  </thead>\n",
       "  <tbody>\n",
       "    <tr>\n",
       "      <th>0</th>\n",
       "      <td>2015</td>\n",
       "      <td>2019-09-10</td>\n",
       "      <td>f</td>\n",
       "      <td>NaN</td>\n",
       "    </tr>\n",
       "    <tr>\n",
       "      <th>1</th>\n",
       "      <td>2015</td>\n",
       "      <td>2019-09-09</td>\n",
       "      <td>f</td>\n",
       "      <td>NaN</td>\n",
       "    </tr>\n",
       "    <tr>\n",
       "      <th>2</th>\n",
       "      <td>2015</td>\n",
       "      <td>2019-09-08</td>\n",
       "      <td>f</td>\n",
       "      <td>NaN</td>\n",
       "    </tr>\n",
       "    <tr>\n",
       "      <th>3</th>\n",
       "      <td>2015</td>\n",
       "      <td>2019-09-07</td>\n",
       "      <td>f</td>\n",
       "      <td>NaN</td>\n",
       "    </tr>\n",
       "    <tr>\n",
       "      <th>4</th>\n",
       "      <td>2015</td>\n",
       "      <td>2019-09-06</td>\n",
       "      <td>f</td>\n",
       "      <td>NaN</td>\n",
       "    </tr>\n",
       "  </tbody>\n",
       "</table>\n",
       "</div>"
      ],
      "text/plain": [
       "   listing_id        date available price\n",
       "0        2015  2019-09-10         f   NaN\n",
       "1        2015  2019-09-09         f   NaN\n",
       "2        2015  2019-09-08         f   NaN\n",
       "3        2015  2019-09-07         f   NaN\n",
       "4        2015  2019-09-06         f   NaN"
      ]
     },
     "execution_count": 40,
     "metadata": {},
     "output_type": "execute_result"
    }
   ],
   "source": [
    "calendar_summary.head()"
   ]
  },
  {
   "cell_type": "markdown",
   "metadata": {},
   "source": [
    "## Questions"
   ]
  },
  {
   "cell_type": "markdown",
   "metadata": {},
   "source": [
    "`1` How many unique listings are there in Berlin?"
   ]
  },
  {
   "cell_type": "code",
   "execution_count": null,
   "metadata": {},
   "outputs": [],
   "source": []
  },
  {
   "cell_type": "markdown",
   "metadata": {},
   "source": [
    "`2` a. How many listings are there in each neighbourhood group?"
   ]
  },
  {
   "cell_type": "code",
   "execution_count": null,
   "metadata": {},
   "outputs": [],
   "source": []
  },
  {
   "cell_type": "markdown",
   "metadata": {},
   "source": [
    "b. Get the top-5  neighborhood groups by the number of listings?"
   ]
  },
  {
   "cell_type": "code",
   "execution_count": null,
   "metadata": {},
   "outputs": [],
   "source": []
  },
  {
   "cell_type": "markdown",
   "metadata": {},
   "source": [
    "c. Get the bottom-5  neighborhood groups by the number of listings?"
   ]
  },
  {
   "cell_type": "code",
   "execution_count": null,
   "metadata": {},
   "outputs": [],
   "source": []
  },
  {
   "cell_type": "markdown",
   "metadata": {},
   "source": [
    "`3` Get the number of listings per property type"
   ]
  },
  {
   "cell_type": "code",
   "execution_count": null,
   "metadata": {},
   "outputs": [],
   "source": []
  },
  {
   "cell_type": "markdown",
   "metadata": {},
   "source": [
    "`4` Find the number of reviews for `Apartment` property type in `2018`?"
   ]
  },
  {
   "cell_type": "code",
   "execution_count": null,
   "metadata": {},
   "outputs": [],
   "source": []
  },
  {
   "cell_type": "markdown",
   "metadata": {},
   "source": [
    "`5` Sort the neighbourhood groups by the average price of the listing (from the most expensive to least expensive) using the `listings` table"
   ]
  },
  {
   "cell_type": "code",
   "execution_count": null,
   "metadata": {},
   "outputs": [],
   "source": []
  },
  {
   "cell_type": "markdown",
   "metadata": {},
   "source": [
    "`6` Get the average number of available listings for each month in 2019 (get the number of available listings for each day and find the monthly average value for each month in 2019)"
   ]
  },
  {
   "cell_type": "code",
   "execution_count": null,
   "metadata": {},
   "outputs": [],
   "source": []
  },
  {
   "cell_type": "markdown",
   "metadata": {},
   "source": [
    "`7` Get the average listing price for each month in 2019 (use `calendar_summary` table and intermediate results from the previous question)"
   ]
  },
  {
   "cell_type": "code",
   "execution_count": null,
   "metadata": {},
   "outputs": [],
   "source": []
  },
  {
   "cell_type": "markdown",
   "metadata": {},
   "source": [
    "## Diagrams"
   ]
  },
  {
   "cell_type": "markdown",
   "metadata": {},
   "source": [
    "Use the data extracted above to have fun with the diagrams ^^\n",
    "\n",
    "Is there any relation between the number of available listings and the average listing prices?"
   ]
  },
  {
   "cell_type": "code",
   "execution_count": null,
   "metadata": {},
   "outputs": [],
   "source": []
  }
 ],
 "metadata": {
  "kernelspec": {
   "display_name": "Python 3",
   "language": "python",
   "name": "python3"
  },
  "language_info": {
   "codemirror_mode": {
    "name": "ipython",
    "version": 3
   },
   "file_extension": ".py",
   "mimetype": "text/x-python",
   "name": "python",
   "nbconvert_exporter": "python",
   "pygments_lexer": "ipython3",
   "version": "3.6.8"
  }
 },
 "nbformat": 4,
 "nbformat_minor": 2
}
